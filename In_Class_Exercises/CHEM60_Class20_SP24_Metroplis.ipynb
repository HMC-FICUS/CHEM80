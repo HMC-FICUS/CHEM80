{
  "cells": [
    {
      "cell_type": "markdown",
      "source": [
        "# CHEM 60 - April 3rd, 2024 (The Metropolis Algorithm)\n",
        "\n",
        "You thought about random numbers in the homework from last week and in class on Monday. Today, we're looking at a particularly important example of random numbers in computing (and chemistry).\n",
        "\n",
        "The Metropolis algorithm (better known as Metropolis-Hastings these days) is a very well-known example of a Markov chain Monte Carlo (MCMC) method with wide-ranging applications in the computational sciences.\n",
        "\n",
        "Look at all the fields that write papers about Metropolis Hastings:\n",
        "![](https://kavassalis.space/s/MH_dimensionsAI_Apr24.png)\n",
        "\n",
        "It also... comes from chemistry. No seriously. The Metropolis algorithm, this extremely general method that is used in things like pseudo-random number generators, numerical integration schemes, and finding minimal paths through complex surfaces, comes from a chemistry paper. Nicholas Metropolis and colleagues published a paper in the Journal of Chemical Physics in 1953 called \"Equation of State Calculations by Fast Computing Machines\" (\"Fast Computing Machines\" - adorable... They were talking about vacuum tube computers, fyi). The paper presented the first computational simulation of a liquid and did so by presenting a new Monte Carlo technique (you may have even learned about it in intro CS, but didn't give it its full name). This method was inspired by good old-fashioned physical chemistry - thinking about molecules moving around, and what determins how they move.\n",
        "\n",
        "Save your in-class notebook copy in your personal Drive as usual.\n"
      ],
      "metadata": {
        "id": "LGpqCfkHAu9m"
      }
    },
    {
      "cell_type": "markdown",
      "metadata": {
        "id": "Q_h-NNX5OpZ5"
      },
      "source": [
        "#Imports\n",
        "\n",
        "Here are the Python imports that we will need today. We don't need much to do this! The default formatting stuff is here too.\n",
        "\n",
        "Run the below code block to get started."
      ]
    },
    {
      "cell_type": "code",
      "execution_count": null,
      "metadata": {
        "id": "_Jcu7W31OpkR"
      },
      "outputs": [],
      "source": [
        "# Standard library imports\n",
        "import math as m\n",
        "\n",
        "# Third party imports\n",
        "import matplotlib.animation as animation\n",
        "import matplotlib.cm as cm\n",
        "import matplotlib.pyplot as plt\n",
        "from matplotlib import rc\n",
        "import numpy as np\n",
        "from scipy.stats import chisquare\n",
        "\n",
        "# so the notebook shows an animation\n",
        "rc('animation', html='html5')\n",
        "\n",
        "# This part of the code block is telling matplotlib to make certain font sizes exra, extra large by default\n",
        "params = {'legend.fontsize': 'xx-large',\n",
        "         'axes.labelsize': 'xx-large',\n",
        "         'axes.titlesize':'xx-large',\n",
        "         'xtick.labelsize':'xx-large',\n",
        "         'ytick.labelsize':'xx-large'}\n",
        "# This line updates the default parameters of pyplot (to use our larger fonts)\n",
        "plt.rcParams.update(params)"
      ]
    },
    {
      "cell_type": "markdown",
      "metadata": {
        "id": "VHVxu-uGgFKq"
      },
      "source": [
        "Not too much of this today. We'll make a bunch of animations to visualize things though."
      ]
    },
    {
      "cell_type": "markdown",
      "metadata": {
        "id": "IYM6htFuyoML"
      },
      "source": [
        "\n",
        "\n",
        "---\n",
        "\n"
      ]
    },
    {
      "cell_type": "markdown",
      "metadata": {
        "id": "gCQDYoxQdLub"
      },
      "source": [
        "# What is a Monte Carlo Method again?\n",
        "\n",
        "Monte Carlo methods encompass a broad class of computational algorithms that use random sampling to obtain numerical results. These techniques are useful for solving complex tasks in pretty much every field that has numerical problems. The basic principle that all Monte Carlo methods share: you can approximate solutions to quantitative questions through the statistical analysis of random variables.\n",
        "\n",
        "You probably saw a few examples of Monte Carlo methods in your intro CS course. Here is one below that will hopefully be familar.\n",
        "\n",
        "![A slide from CS5 showing a Monte Carlo Method used for estimating pi](https://kavassalis.space/s/cs5_lec4_SP2022_MCMpi.png)\n",
        "> *A slide from [CS5 in 2022](https://drive.google.com/file/d/1uKyrx67z9A3-YXvboo78uNKcpkZ83uNX/view) showing how you can use random pin drops to estimate the value of pi*. The semester most of you took CS5 has similar examples: https://www.cs.hmc.edu/twiki/bin/view/CS5Fall2023\n",
        "\n",
        "The point of reminding you of this? Randomly dropping pins on a square with a circle drawn in it is 1) a valid way to estimate pi and 2) an example of a Monte Carlo method!\n",
        "\n"
      ]
    },
    {
      "cell_type": "markdown",
      "metadata": {
        "id": "TcW3L5svoq7y"
      },
      "source": [
        "## Monte Carlo Example - Estimating Pi\n",
        "\n",
        "If you haven't seen this before, or if you have, but want to see code to recreate the above simulation, read on! Given a unit square, the circle inside it will have a radius of 1/2. The area of the  circle is πr^2 (with r=1, this simplifies to π/4). Even more trivially, the area of the unit square is 1. By randomly placing points within the square and counting how many fall inside the quarter circle versus the total number of points, we can estimate π as 4 times the ratio of points inside the circle to the total points.\n",
        "\n",
        "I have put a lot of comments on this code, to step through what each line is doing here."
      ]
    },
    {
      "cell_type": "code",
      "execution_count": null,
      "metadata": {
        "id": "Zs_heQaQfqeM"
      },
      "outputs": [],
      "source": [
        "def MC_estimate_of_pi(frame):\n",
        "    # The global keyword allows a variable to be used globally in your entire program.\n",
        "    global total_points, inside_points\n",
        "\n",
        "    # Generate two random float numbers between 0 (inclusive) and 1 (exclusive) using NumPy's random.rand() function.\n",
        "    # Multiply these random points by 'square_size' and then subtract half of 'square_size' to shift the square's center to (0,0).\n",
        "    x, y = np.random.rand(2) * square_size - square_size/2  # Shift to center at (0,0)\n",
        "\n",
        "    # Calculate the Euclidean distance from the point (x, y) to the origin (0, 0).\n",
        "    # It is accomplished by squaring the coordinates (x and y), summing them up, and taking the square root of the result.\n",
        "    distance = np.sqrt(x**2 + y**2)  # Distance from point to origin\n",
        "\n",
        "    # Check if the distance of the point from the origin is less or equal to half of the square size.\n",
        "    # If true, it means the point is inside the circle, and increase the 'inside_points' counter.\n",
        "    if distance <= square_size/2:\n",
        "        inside_points += 1\n",
        "          # Append the x and y coordinates to the data of points inside the circle for plot.\n",
        "        points_inside.set_data(np.append(points_inside.get_xdata(), x),\n",
        "                               np.append(points_inside.get_ydata(), y))\n",
        "     # If the point is not inside the circle, it must be outside (but still inside the square).\n",
        "    else:\n",
        "        # Append the x and y coordinates to the data of points outside the circle for plot.\n",
        "        points_outside.set_data(np.append(points_outside.get_xdata(), x),\n",
        "                                np.append(points_outside.get_ydata(), y))\n",
        "\n",
        "    # Increase the counter for the total number of generated points.\n",
        "    total_points += 1\n",
        "    # Calculate the estimation of pi by multiplying 4 by the ratio of points inside the circle to total points.\n",
        "    estimated_pi = 4 * (inside_points / total_points)\n",
        "    # Set the title of the plot with the estimated value of pi.\n",
        "    # The title contains a string that describes the estimation of pi and the estimated value of pi with 5 decimal places precision.\n",
        "    ax.set_title(f'Estimating Pi using Monte Carlo Simulation\\nPi ≈ {estimated_pi:.5f}')\n",
        "\n",
        "    # Return the updated data for points inside and outside the circle.\n",
        "    return points_inside, points_outside"
      ]
    },
    {
      "cell_type": "markdown",
      "metadata": {
        "id": "L1cEOxrkyLKH"
      },
      "source": [
        "Let's run the code below. Since this is making an animation, it will be slow to run! The actual simulation here is really fast to run, but creating and displaying the animation is a slog. You can comment out the `ani` line at the very bottom of the below code block to see that for yourself (but you probably want to look at the animation, so, it'll be worth waiting).\n",
        "\n",
        "Lots and lots of comments again (perhaps some of you have expressed excitement at making animations for your final project and wanted to see more code!)"
      ]
    },
    {
      "cell_type": "code",
      "execution_count": null,
      "metadata": {
        "id": "fRgN9xofeGxL"
      },
      "outputs": [],
      "source": [
        "# Define the domain\n",
        "square_size = 1 # The side length of the square is defined.\n",
        "\n",
        "# Initialize plot\n",
        "# A figure and a set of subplots (in this case, just one) are created using this function from matplotlib.pyplot module.\n",
        "fig, ax = plt.subplots()\n",
        "ax.axis('square') # This sets the aspect of the scale or the axis.\n",
        "# Define the limits of x and y-axis between negative half of the square size and positive half.\n",
        "ax.set_xlim(-square_size/2, square_size/2)\n",
        "ax.set_ylim(-square_size/2, square_size/2)\n",
        "\n",
        "# A circle is created with centre at origin and radius half the square size.\n",
        "# This circle is not filled and has colour specified by colour code (a very good orange).\n",
        "circle = plt.Circle((0, 0), square_size/2, color='#d95f02', fill=False)\n",
        "ax.add_artist(circle) # This circle \"artist\" (matplotlib jargon for adding things like this to plots) is added to the plot using the add_artist method from the Axes class.\n",
        "\n",
        "# Two empty scatter plots are prepared for points inside and outside the circle.\n",
        "# They are each assigned their own colours (with hex), a marker shape, and no line (that's wat the empty string is doing '')\n",
        "points_inside, = ax.plot([], [], '#7570b3', marker='o', linestyle='', label='Inside')\n",
        "points_outside, = ax.plot([], [], '#1b9e77', marker='o', linestyle='', label='Outside')\n",
        "\n",
        "# Two variables to hold the total number of points and the number of points that fall within the circle.\n",
        "total_points = 0\n",
        "inside_points = 0\n",
        "\n",
        "# This now creates an animation by repeatedly calling a function (in this case, MC_estimate_of_pi).\n",
        "# 'fig' is the figure object on which the animation will be drawn (we had to make that above).\n",
        "# 'frames' is the number of frames (or iterations) through which the animation will be run. In this case, it is 100.\n",
        "# 'blit' if True, will only re-draw the parts that have changed. This makes the animation more efficient.\n",
        "# 'interval' controls the delay between frames in milliseconds.\n",
        "# 'repeat' if False, means that the animation will not start again once it has finished.\n",
        "ani = animation.FuncAnimation(fig, MC_estimate_of_pi, frames=range(100),\n",
        "                              blit=True, interval=10,\n",
        "                              repeat=False)\n",
        "\n",
        "plt.close()\n",
        "ani"
      ]
    },
    {
      "cell_type": "markdown",
      "metadata": {
        "id": "2hbZhnOvycw_"
      },
      "source": [
        "## PRACTICE QUESTION\n",
        "\n",
        "Change some arguments within FuncAnimation and see what they do! Can you make the pins drop more slowly? Can you make the animation drop more pins? Which arguments control those things?\n",
        "\n",
        "\n",
        "\n",
        "---\n",
        "\n"
      ]
    },
    {
      "cell_type": "markdown",
      "metadata": {
        "id": "AikC5UKMydBw"
      },
      "source": [
        "In case you did not want to sit around to wait for the above to make a longer movie, I ran it for 2000 pin drops and have shared it [here](https://drive.google.com/file/d/1U96eDLv-PK64S_AKcxloSOjyUsMxhWcO/view?usp=drive_link)."
      ]
    },
    {
      "cell_type": "markdown",
      "metadata": {
        "id": "5SpfwS13uIhV"
      },
      "source": [
        "# What is Metropolis-Hastings?\n",
        "\n",
        "Let's work through this as a group. While the Metropolis paper is short, the language use is challenging. It also doesn't sound very similar to how you might learn about this algorithm in a CS class (but it's really the same). We'll use a [Google Doc](https://docs.google.com/document/d/17zF6hz8QKOtMpK8srcqxbitltNHUusOeewQspzKykO4/edit?usp=sharing). Get into pairs and sign up to read and summarize just one of the assigned sections.\n",
        "\n",
        "Take some notes for yourself: What is the Metropolis algorithm supposed to do. How is this described in the de-chemistried version (Metropolis-Hastings) and how is it different than the classic, chemistry way of describing it.\n",
        "\n",
        "\n",
        "---\n",
        "\n"
      ]
    },
    {
      "cell_type": "markdown",
      "metadata": {
        "id": "avrSPQmox9Om"
      },
      "source": [
        "**Your summary notes from our class discussion - your section notes can just be right in the Doc**"
      ]
    },
    {
      "cell_type": "markdown",
      "metadata": {
        "id": "V96sR6pyeJlK"
      },
      "source": [
        "# Middle-Square Method\n",
        "\n",
        "The 'approximating pi' Monte Carlo example takes advantage of numpy's [random](https://numpy.org/doc/stable/reference/random/generated/numpy.random.rand.html) numbers that you have used a lot lately. In the original Metropolis et al. paper, they obviously couldn't do this (this was the area of Fast Computing Machines™, after all). Instead, the authors used a method known as the \"middle-square method\" for generating pseudo-random numbers. The middle-square method, typically attributed to John von Neumann, involves taking a number (the \"seed\"), squaring it, and then taking the middle digits of the result as the next number in the series, which serves as both the next seed and the \"random\" number. This method is relatively simple but suffers from some major drawbacks, which you can test out below. I also genuinely recommend reading the [Wikipedia](https://en.wikipedia.org/wiki/Middle-square_method) page on the middle-square method too because it pulls no punches in calling it \"highly flawed\" and also suggests that perhaps it was initially invented in the 1200s by a Franciscan friar `¯\\_(ツ)_/¯`.\n",
        "\n",
        "Below is a small implementation of this in Python. Even though it is a tiny function, I have added lots of comments to explain what each part is doing there."
      ]
    },
    {
      "cell_type": "code",
      "execution_count": null,
      "metadata": {
        "id": "0Y28_h8Ob7tR"
      },
      "outputs": [],
      "source": [
        "def middle_square(seed, digits=4, steps=10):\n",
        "    numbers = [] # Initialize an empty list to hold the random numbers that will be generated.\n",
        "    for _ in range(steps): # Loop over the range of steps given.\n",
        "        # The zfill method pads the string on the left with zeroes to ensure it has a length of digits*2 (so it has a middle).\n",
        "        square = str(seed**2).zfill(digits*2) # Square the seed value and convert it to a string.\n",
        "        # The starting and ending indices for the slice are calculated based on the length of the squared string and the number of digits.\n",
        "        middle = int(square[(len(square)//2-digits//2):(len(square)//2+digits//2)]) # Extract the 'middle' digits from the squared string using slicing.\n",
        "        numbers.append(middle) # Add the extracted middle number to the list of random numbers.\n",
        "        seed = middle # The extracted middle number becomes the seed for the next iteration.\n",
        "    return numbers  # Return the list of generated random numbers."
      ]
    },
    {
      "cell_type": "markdown",
      "metadata": {
        "id": "LQueJz-2sO84"
      },
      "source": [
        "Let's test it out!"
      ]
    },
    {
      "cell_type": "code",
      "execution_count": null,
      "metadata": {
        "id": "i7_8yV-WsSn5"
      },
      "outputs": [],
      "source": [
        "seed = 1234  # initial seed\n",
        "digits = 4  # number of digits to keep\n",
        "steps = 10  # sequence length\n",
        "random_numbers = middle_square(seed, digits, steps)\n",
        "print(\"Pseudo-random sequence:\", random_numbers)"
      ]
    },
    {
      "cell_type": "markdown",
      "metadata": {
        "id": "BZdQlFxCxT0Q"
      },
      "source": [
        "## PRACTICE QUESTION\n",
        "\n",
        "If you started with a seed of 1234, you should have got your first pseudo-random number as '5227'.  Double check that the math makes sense (ie. if you were to manually attempt to use the middle-squares method, you'd get the same next number). You can use a code block to square the numbers.\n",
        "\n",
        "\n",
        "---\n",
        "\n"
      ]
    },
    {
      "cell_type": "code",
      "execution_count": null,
      "metadata": {
        "id": "04dQnRevxTHQ"
      },
      "outputs": [],
      "source": []
    },
    {
      "cell_type": "markdown",
      "metadata": {
        "id": "i7Gz25LgyGqv"
      },
      "source": [
        "\n",
        "\n",
        "---\n",
        "\n"
      ]
    },
    {
      "cell_type": "markdown",
      "metadata": {
        "id": "D1zdskrNtgFp"
      },
      "source": [
        "## PRACTICE QUESTION\n",
        "\n",
        "Are these numbers \"random enough\"? Create a histogram and use the uniformity test to say if this method produces reasonably random numbers?\n",
        "\n",
        "\n",
        "---\n",
        "\n"
      ]
    },
    {
      "cell_type": "code",
      "execution_count": null,
      "metadata": {
        "id": "j3X2OXp_b22k"
      },
      "outputs": [],
      "source": [
        "# code here!"
      ]
    },
    {
      "cell_type": "markdown",
      "metadata": {
        "id": "k0_8Eqaot48I"
      },
      "source": [
        "\n",
        "\n",
        "---\n",
        "\n"
      ]
    },
    {
      "cell_type": "markdown",
      "metadata": {
        "id": "FzzPON4et3g4"
      },
      "source": [
        "## PRACTICE QUESTION\n",
        "Why does Wikipedia call this \"deeply flawed\" though? Increase the number of steps and see what happens. Are they still 'random enough'?\n",
        "\n",
        "\n",
        "---\n",
        "\n"
      ]
    },
    {
      "cell_type": "markdown",
      "metadata": {
        "id": "hTNvOKXNvc_S"
      },
      "source": []
    },
    {
      "cell_type": "code",
      "execution_count": null,
      "metadata": {
        "id": "Ftzz5M-nvdfQ"
      },
      "outputs": [],
      "source": []
    },
    {
      "cell_type": "markdown",
      "metadata": {
        "id": "DlBJ7u2Yvdsw"
      },
      "source": [
        "\n",
        "\n",
        "---\n",
        "\n",
        "In case you really miss the [HMMM](https://www.cs.hmc.edu/~cs5grad/cs5/hmmm/documentation/documentation.html) from CS5/42, check out the code that Metropolis wrote to do this in the 1950s.\n",
        "\n",
        "![Assembly for the middle-square algorithm as written for MANIAC](https://kavassalis.space/s/MANIAC-middle-square-program-listing.png)\n",
        "\n",
        "This does not spark joy for me, but maybe it does for you! If so, you can read about the inner workings of the computer that was used for these very early chemical simulations. It was named... [MANIAC](https://drive.google.com/file/d/1S_Pqi5tbFIExufNAR-qBbm4s6vUa3eBv/view?usp=drive_link).\n",
        "\n",
        "Moving on."
      ]
    },
    {
      "cell_type": "markdown",
      "metadata": {
        "id": "Axypadug2mKz"
      },
      "source": [
        "# Middle-Square Particle Simulation\n",
        "\n",
        "Before we do a friendly version of Metropolis, let's try out the middle-square random numbers for a very simple simulation.\n",
        "\n",
        "This function is being written to animate, so includes arguments to make that possible:\n",
        "\n",
        "* `frame` parameter is required for matplotlib's FuncAnimation function, we do not actually use it in this function.\n",
        "* `positions` is a list of tuples representing the current positions of particles.\n",
        "* `square_size` is the side length of the square (part of the domain where particles move).\n",
        "* `seed` is the initial number for the pseudorandom number generator (Middle Square method).\n",
        "* `steps_per_frame` is the number of simulation steps performed in each frame of the animation.\n",
        "* `digits` is the number of digits to be used in the Middle Square random number generation method (affects the total available numbers).\n"
      ]
    },
    {
      "cell_type": "code",
      "execution_count": null,
      "metadata": {
        "id": "cfTfVBIJ0ie4"
      },
      "outputs": [],
      "source": [
        "# Update function utilizing middle_square for random numbers\n",
        "def Middle_Square_Particle_Simulation(frame, positions, square_size, seed, steps_per_frame=1, digits=4):\n",
        "    # For each simulation step in the current frame...\n",
        "    for _ in range(steps_per_frame):\n",
        "        # Generate pseudorandom numbers using Middle Square method.\n",
        "        # The number of numbers generated is 2 times the number of particles.\n",
        "        # Half these numbers will be used as steps in x direction, the other half - in y direction.\n",
        "        rand_steps = middle_square(seed, digits=digits, steps=2*len(positions))\n",
        "        # The seed for the next frame is set to the last generated number for continuity in random number generation.\n",
        "        seed = rand_steps[-1]\n",
        "         # Normalize steps in x and y direction (dividing by the maximum possible number in Middle Square method)\n",
        "        # and shift them so they now range in [-1, 1). This transformation forms the dx steps in x direction.\n",
        "        dxs = [(step / 10**digits) * 2 - 1 for step in rand_steps[:len(positions)]]  # Normalize and shift to [-1, 1)\n",
        "        dys = [(step / 10**digits) * 2 - 1 for step in rand_steps[len(positions):]]  # Normalize and shift to [-1, 1)\n",
        "\n",
        "        # For each particle and corresponding steps in x and y direction...\n",
        "        for i, (dx, dy) in enumerate(zip(dxs, dys)):\n",
        "            # Retrieve the current position of the i-th particle\n",
        "            x, y = positions[i]\n",
        "            # Update its position by adding the corresponding step.\n",
        "            # Modulo operation (%) ensures that particles remain inside the square - if a particle moves past an edge of the square, it appears on the opposite side (this is known as a periodic boundary condition).\n",
        "            new_x, new_y = (x + dx) % square_size, (y + dy) % square_size\n",
        "            # Save the new position of the i-th particle.\n",
        "            positions[i] = (new_x, new_y)\n",
        "\n",
        "    # Update the positions of points in the scatter plot.\n",
        "    scat.set_offsets(positions)\n",
        "    # In matplotlib animations a tuple should be returned. The trailing comma is typically used for one element tuples.\n",
        "    # The scat object must be returned as it's updated in-place. 'scat' is the variable which holds the reference for our scatter plot.\n",
        "    return scat,"
      ]
    },
    {
      "cell_type": "markdown",
      "metadata": {
        "id": "WDzrJuPy1K9J"
      },
      "source": [
        "Let's see what this does"
      ]
    },
    {
      "cell_type": "code",
      "execution_count": null,
      "metadata": {
        "id": "Hj71T4iF1HnI"
      },
      "outputs": [],
      "source": [
        "# A new figure and a subplot are created using the matplotlib's subplots function.\n",
        "fig, ax = plt.subplots()\n",
        "# Variable 'square_size' is the side length of the square in which particles can move.\n",
        "square_size = 10\n",
        "# The initial seed for the pseudorandom number generator (Middle Square method).\n",
        "rng_seed = 1234\n",
        "\n",
        "# The initial positions of 50 particles are generated.\n",
        "# np.random.rand(50, 2) creates an array of size (50, 2) with random float numbers in the range [0, 1).\n",
        "# By multiplying it by 'square_size', the range of random numbers become [0, 'square_size').\n",
        "positions = np.random.rand(50, 2) * square_size  # Initial positions for 50 particles\n",
        "\n",
        "# For each particle, assign a colour from the jet colourmap which ranges from blue to red.\n",
        "colours = [cm.jet(i/len(positions)) for i in range(len(positions))]\n",
        "\n",
        "# 'scatter' function creates a scatter plot.\n",
        "# With 'positions[:, 0]' we get all x coordinates,\n",
        "# and with 'positions[:, 1]' we get all the y coordinates of the particles.\n",
        "# 'c=colours' assigns the previously defined colours to the particles.\n",
        "scat = ax.scatter(positions[:, 0], positions[:, 1], c = colours)\n",
        "\n",
        "# Set the limits of x-axis and y-axis to [0, square_size).\n",
        "ax.set_xlim(0, square_size)\n",
        "ax.set_ylim(0, square_size)\n",
        "\n",
        "# Create an animation using FuncAnimation function from matplotlib.\n",
        "ani = animation.FuncAnimation(fig, Middle_Square_Particle_Simulation, fargs=(positions, square_size, rng_seed),\n",
        "                              frames=200, interval=100, blit=True)\n",
        "\n",
        "plt.close()\n",
        "ani"
      ]
    },
    {
      "cell_type": "markdown",
      "metadata": {
        "id": "4QtKb9QV1U8c"
      },
      "source": [
        "Note on the FuncAnimation arguments:\n",
        "\n",
        "* In `fargs` parameter, we provide a tuple of arguments that will be passed to Middle_Square_Particle_Simulation function.\n",
        "* `frames=200` means that the simulation will consist of 200 frames.\n",
        "* `interval=100` means that the delay between frames will be 100 milliseconds.\n",
        "* `blit=True` means that only parts of the figure that have changed will be re-drawn, which can improve performance of an animation."
      ]
    },
    {
      "cell_type": "markdown",
      "metadata": {
        "id": "ey3XGU8l1eU5"
      },
      "source": [
        "Okay. So, that looks kind of fun. But we also said that our pseudo-random number generator was \"deeply flawed\". Let's just recreate that simulation using a more modern pseudo-random number generator."
      ]
    },
    {
      "cell_type": "code",
      "execution_count": null,
      "metadata": {
        "id": "Fer1VlCm2JnX"
      },
      "outputs": [],
      "source": [
        "def NumpyRand_Particle_Simulation(frame, positions, square_size, seed, steps_per_frame=1):\n",
        "    for _ in range(steps_per_frame):\n",
        "        np.random.seed(seed)\n",
        "        # Generate random steps for each particle using numpy's random.rand()\n",
        "        rand_steps = np.random.rand(2 * len(positions))\n",
        "\n",
        "        # Convert rand_steps to a list to use list slicing\n",
        "        rand_steps = rand_steps.tolist()\n",
        "\n",
        "        dxs = [(step * 2) - 1 for step in rand_steps[:len(positions)]]  # Normalize and shift to [-1, 1)\n",
        "        dys = [(step * 2) - 1 for step in rand_steps[len(positions):]]  # Normalize and shift to [-1, 1)\n",
        "\n",
        "        for i, (dx, dy) in enumerate(zip(dxs, dys)):\n",
        "            x, y = positions[i]\n",
        "            new_x, new_y = (x + dx) % square_size, (y + dy) % square_size\n",
        "            positions[i] = (new_x, new_y)\n",
        "\n",
        "    # Update scatter plot\n",
        "    scat.set_offsets(positions)\n",
        "    return scat,"
      ]
    },
    {
      "cell_type": "markdown",
      "metadata": {
        "id": "iXAtU-e12LW-"
      },
      "source": [
        "## PRACTICE QUESTION\n",
        "\n",
        "What is different in the code of `NumpyRand_Particle_Simulation` function from the `Middle_Square_Particle_Simulation` function?\n",
        "\n",
        "\n",
        "---\n",
        "\n"
      ]
    },
    {
      "cell_type": "markdown",
      "metadata": {
        "id": "2yrvkIEA3pJm"
      },
      "source": [
        "**notes**"
      ]
    },
    {
      "cell_type": "markdown",
      "metadata": {
        "id": "N5dqC0g_3q7j"
      },
      "source": [
        "\n",
        "\n",
        "---\n",
        "\n"
      ]
    },
    {
      "cell_type": "markdown",
      "metadata": {
        "id": "egWNuGo_3rtX"
      },
      "source": [
        "Let's look at the simulation."
      ]
    },
    {
      "cell_type": "code",
      "execution_count": null,
      "metadata": {
        "id": "6LGOI8d-2L1Z"
      },
      "outputs": [],
      "source": [
        "# Initializing the plot\n",
        "fig, ax = plt.subplots()\n",
        "square_size = 10\n",
        "rng_seed = 1234  # Initial seed for the middle_square method\n",
        "positions = np.random.rand(50, 2) * square_size  # Initial positions for 50 particles\n",
        "\n",
        "scat = ax.scatter(positions[:, 0], positions[:, 1], c = colours)\n",
        "ax.set_xlim(0, square_size)\n",
        "ax.set_ylim(0, square_size)\n",
        "\n",
        "ani = animation.FuncAnimation(fig, NumpyRand_Particle_Simulation, fargs=(positions, square_size, rng_seed),\n",
        "                              frames=200, interval=100, blit=True)\n",
        "\n",
        "plt.close()\n",
        "ani"
      ]
    },
    {
      "cell_type": "markdown",
      "metadata": {
        "id": "0XlBzbpk2Zx1"
      },
      "source": [
        "## PRACTICE QUESTION:\n",
        "Qualitatively, these look quite similar! Do you notice any differences?\n",
        "\n",
        "\n",
        "\n",
        "---\n",
        "\n"
      ]
    },
    {
      "cell_type": "markdown",
      "metadata": {
        "id": "kfmPtWaQ39Ie"
      },
      "source": [
        "**notes**"
      ]
    },
    {
      "cell_type": "markdown",
      "metadata": {
        "id": "peZvUXR03_qR"
      },
      "source": [
        "\n",
        "\n",
        "---\n",
        "\n"
      ]
    },
    {
      "cell_type": "markdown",
      "metadata": {
        "id": "XPDV3-NE4AUf"
      },
      "source": [
        "## PRACTICE QUESTION\n",
        "\n",
        "What is `np.random.seed(seed)` doing here? And why might I always ask students to set and state the PRNG seeds in research applications?\n",
        "\n",
        "\n",
        "\n",
        "---\n",
        "\n"
      ]
    },
    {
      "cell_type": "markdown",
      "metadata": {
        "id": "nsglS2_W4eWR"
      },
      "source": [
        "**notes**"
      ]
    },
    {
      "cell_type": "markdown",
      "metadata": {
        "id": "hCzvgqz34g5_"
      },
      "source": [
        "\n",
        "\n",
        "---\n",
        "\n"
      ]
    },
    {
      "cell_type": "markdown",
      "metadata": {
        "id": "QDOIa6P94h2R"
      },
      "source": [
        "## PRACTICE QUESTION\n",
        "Comment out the `np.random.seed(seed)` line. Describe what is different between the with and without 'set random seed line' animations? What physical scenarios could the two different simulations describe?\n",
        "\n",
        "\n",
        "\n",
        "---\n",
        "\n"
      ]
    },
    {
      "cell_type": "markdown",
      "metadata": {
        "id": "NipvPelc410h"
      },
      "source": [
        "**Notes**"
      ]
    },
    {
      "cell_type": "markdown",
      "metadata": {
        "id": "prmdNR2u43wH"
      },
      "source": [
        "\n",
        "\n",
        "---\n",
        "\n"
      ]
    },
    {
      "cell_type": "markdown",
      "metadata": {
        "id": "Fh8fzg92441X"
      },
      "source": [
        "## PRACTICE QUESTION\n",
        "\n",
        "Try changing where you set the numpy random seed (ie. not within the for-loop). Use the same seed as your neighbour and figure out where you would need to set the random seed so you both could get the exact same simulation.\n",
        "\n",
        "\n",
        "---\n",
        "\n"
      ]
    },
    {
      "cell_type": "code",
      "execution_count": null,
      "metadata": {
        "id": "m36BBrEw3-9R"
      },
      "outputs": [],
      "source": [
        "# maybe code"
      ]
    },
    {
      "cell_type": "markdown",
      "metadata": {
        "id": "_6giyQ0r5HNQ"
      },
      "source": [
        "\n",
        "\n",
        "---\n",
        "\n"
      ]
    },
    {
      "cell_type": "markdown",
      "metadata": {
        "id": "VzX9ZwdU5OCx"
      },
      "source": [
        "# Metropolis\n",
        "\n",
        "As we hopefully came to conclude above, the simplified version of Metrpolis-Hastings is, say we want to move molecules around (or predict the next number in a sequence, ie. anything we want to iterate, really). We can describe that process in the language of PCHEM.\n",
        "* $x$ is the state of the system\n",
        "* $f(x)$ is the energy of the system\n",
        "* and $T$ is the temperature and $k$ the Boltzman constant (so $kT$ is essentially temperature in the units of energy)\n",
        "\n",
        "Now the algorithm should address how the system might evolve ($x'$ is a potential next state for the system):\n",
        "\n",
        "1.   $x' = x + $ a random change\n",
        "2.   If $\\text{exp}\\frac{f(x)-f(x')}{kT} > $ A random number, then $x = x'$ (ie. if the energy of the system in the state $x'$ is lower than the energy of the system in state $x$, move to the new state.\n",
        "\n",
        "And repeat.\n",
        "\n",
        "You have to have some way of calculating energy. For many applications of this algorithm, we're not talking about real energy in the way you do for molecular populations - we are just talking about some quantity we want to minimize (a cost function, a loss function <- you've seen these before in this course)."
      ]
    },
    {
      "cell_type": "markdown",
      "metadata": {
        "id": "JkKZTTtW1f1M"
      },
      "source": [
        "I will show you a simple version of the Metropolis algorithm for essentially just moving non-interacting particles around. In the paper, the molecules being rigid bodies and on a lattice (to try and simulate liquid properties and molecules actually having size) is important and not included below (but the basic logic is the same for all implementations of Metropolis-Hastings).\n",
        "\n",
        "Let's step through it a bit more carefully:\n",
        "\n",
        "1. **Calculate the Initial Energy**: Initially calculate the energy of the system before any moves are made.\n",
        "\n",
        "Why don't we define the energy of the system as just being a function of the distances between all the particles (we're ignoring some things here! But this is a simple demo)"
      ]
    },
    {
      "cell_type": "code",
      "execution_count": null,
      "metadata": {
        "id": "LDmI3iCR5yEb"
      },
      "outputs": [],
      "source": [
        "def calculate_energy(positions):\n",
        "    # Example: Sum of distances between particles\n",
        "    energy = sum(np.sqrt((x1-x2)**2 + (y1-y2)**2) for (x1, y1), (x2, y2) in zip(positions[:-1], positions[1:]))\n",
        "    return energy"
      ]
    },
    {
      "cell_type": "markdown",
      "metadata": {
        "id": "i4Fg4vqm9qLP"
      },
      "source": [
        "2. **Generate Random Steps**: Utilize the `middle_square` method to generate random steps for particle movement, as you already do.\n",
        "3. **Attempt Particle Moves**: For each particle, compute its new position based on the generated steps.\n",
        "4. **Calculate New Energy**: Calculate the energy of the system if the particle were to move to its new position.\n",
        "5. **Apply the Metropolis Condition**: Compare the new energy with the initial energy, and decide whether to move the particle based on the Metropolis algorithm criteria.\n",
        "6. **Update Positions**: If a move is accepted, update the particle's position.\n",
        "\n",
        "We will use the numpy random numbers for this one..."
      ]
    },
    {
      "cell_type": "code",
      "source": [
        "def Metropolis_Particle_Simulation(frame, positions, square_size, seed, kT=1, steps_per_frame=1, digits=4):\n",
        "    # Calculate the initial energy state\n",
        "    initial_energy = calculate_energy(positions)\n",
        "\n",
        "    # For each simulation step in the current frame...\n",
        "    for _ in range(steps_per_frame):\n",
        "        # Generate pseudorandom steps for each particle.\n",
        "        # Total number generated is two times number of particles.\n",
        "        # Half these numbers will be used as steps in x direction, the other half - in y direction.\n",
        "        rand_steps = 10**digits * np.random.rand(2*len(positions))\n",
        "\n",
        "        # These steps are normalized (dividing by the maximum possible number\n",
        "        # considering the number of digits, then scaled up by 2, finally subtracting 1) to have a random range between [-1, 1).\n",
        "        # This forms the dx (change in x-direction).\n",
        "        dxs = [(step / (10**digits / 2)) - 1 for step in rand_steps[:len(positions)]]\n",
        "\n",
        "        # Similarly normalized steps for dy (change in y-direction).\n",
        "        dys = [(step / (10**digits / 2)) - 1 for step in rand_steps[len(positions):]]\n",
        "\n",
        "        # For each particle and corresponding steps in x and y direction...\n",
        "        for i, (dx, dy) in enumerate(zip(dxs, dys)):\n",
        "            # Update the position of the particle by adding the corresponding step (dx, dy) and wrapping positions according to periodic boundary conditions.\n",
        "            x, y = positions[i]\n",
        "            new_x, new_y = (x + dx) % square_size, (y + dy) % square_size\n",
        "\n",
        "            # Copy the current state of the system to evaluate potential new state\n",
        "            new_positions = positions.copy()\n",
        "            new_positions[i] = (new_x, new_y)\n",
        "\n",
        "            # Calculate new energy of the system for the potential move\n",
        "            new_energy = calculate_energy(new_positions)\n",
        "\n",
        "            # Metropolis condition: if energy decreases, move is accepted. If energy increases, it is accepted with a probability exp(-ΔE/kT)\n",
        "            # where ΔE is the change in energy, kT is the product of Boltzmann constant and absolute temperature\n",
        "            if new_energy <= initial_energy or np.random.rand() < np.exp(-(new_energy - initial_energy) / kT):\n",
        "                # move the i-th particle to the new position\n",
        "                positions[i] = (new_x, new_y)\n",
        "\n",
        "                # Update energy to the new_energy for the next iteration\n",
        "                initial_energy = new_energy\n",
        "\n",
        "    # Update the positions of points in scatter plot.\n",
        "    scat.set_offsets(positions)\n",
        "\n",
        "    # Return the scatter plot. This pattern (returning a tuple) is required by matplotlib animations.\n",
        "    return scat,"
      ],
      "metadata": {
        "id": "7k0c5Yy9BKnc"
      },
      "execution_count": null,
      "outputs": []
    },
    {
      "cell_type": "markdown",
      "source": [
        "And let's test it out."
      ],
      "metadata": {
        "id": "sQ88h4KoBy1a"
      }
    },
    {
      "cell_type": "code",
      "execution_count": null,
      "metadata": {
        "id": "XutID1sO3li-"
      },
      "outputs": [],
      "source": [
        "# Define constants\n",
        "kT = 1  # Define your system's \"temperature\" (our units are made up, given how we defined energy)\n",
        "square_size = 10  # Define size of the system\n",
        "\n",
        "positions = np.random.rand(50, 2) * square_size  # Initial positions for 50 particles\n",
        "\n",
        "# Initialize colours\n",
        "colours = [cm.jet(i/len(positions)) for i in range(len(positions))]\n",
        "\n",
        "figure = plt.figure()\n",
        "scat = plt.scatter(*zip(*positions), c=colours, animated=True)\n",
        "\n",
        "# initial seed\n",
        "seed = 1234\n",
        "# Run animation\n",
        "ani = animation.FuncAnimation(figure, Metropolis_Particle_Simulation, frames=200, fargs=( positions, square_size, seed), repeat=False)\n",
        "plt.close()\n",
        "ani"
      ]
    },
    {
      "cell_type": "markdown",
      "metadata": {
        "id": "al5uhNDMtmNF"
      },
      "source": [
        "\n",
        "\n",
        "---\n",
        "\n"
      ]
    },
    {
      "cell_type": "markdown",
      "source": [
        "This looks so different!\n",
        "\n",
        "What if - instead of starting with randomly distributed particles - we started with them on a lattice:"
      ],
      "metadata": {
        "id": "vtjnevlCCe-X"
      }
    },
    {
      "cell_type": "code",
      "source": [
        "# Initialize particles in a regular lattice\n",
        "N = 7  # Define the number of particles in each dimension\n",
        "spacing = square_size / N  # Calculate the spacing between particles\n",
        "# We are using a list comprehension that generates a tuple (x, y) for each point in the grid.\n",
        "positions = np.array([(i*spacing, j*spacing) for i in range(N) for j in range(N)])\n",
        "\n",
        "# Initialize colours\n",
        "colours = [cm.jet(i/len(positions)) for i in range(len(positions))]\n",
        "\n",
        "figure = plt.figure()\n",
        "scat = plt.scatter(*zip(*positions), c=colours, animated=True)\n",
        "plt.title(\"Initial Conditions on a Lattice\")\n",
        "plt.show()"
      ],
      "metadata": {
        "id": "PBFvWVT4EDpE"
      },
      "execution_count": null,
      "outputs": []
    },
    {
      "cell_type": "markdown",
      "source": [
        "What happens now?"
      ],
      "metadata": {
        "id": "lQTraACOENh3"
      }
    },
    {
      "cell_type": "code",
      "source": [
        "# initial seed\n",
        "seed = 1234\n",
        "# Run animation\n",
        "ani = animation.FuncAnimation(figure, Metropolis_Particle_Simulation, frames=200, fargs=( positions, square_size, seed), repeat=False)\n",
        "plt.close()\n",
        "ani"
      ],
      "metadata": {
        "id": "pJEJd_fODfpD"
      },
      "execution_count": null,
      "outputs": []
    },
    {
      "cell_type": "markdown",
      "source": [
        "## PRACTICE QUESTION:\n",
        "\n",
        "What kinds of questions could this basic framework help us answer? What kinds of complexity could you add to this type of simulation to tell us information about real systems?\n",
        "\n",
        "\n",
        "\n",
        "---\n",
        "\n"
      ],
      "metadata": {
        "id": "-gI65VHtEQ5g"
      }
    },
    {
      "cell_type": "markdown",
      "source": [
        "**notes**"
      ],
      "metadata": {
        "id": "K9uIooS5FAVP"
      }
    },
    {
      "cell_type": "markdown",
      "metadata": {
        "id": "SvE2DJP950R2"
      },
      "source": [
        "\n",
        "\n",
        "---\n",
        "\n"
      ]
    },
    {
      "cell_type": "markdown",
      "metadata": {
        "id": "y5rNn97ftVIO"
      },
      "source": [
        "# Submit your notebook\n",
        "\n",
        "It's time to download your notebook and submit it on Canvas. Go to the File menu and click **Download** -> **Download .ipynb**\n",
        "\n",
        "Then, go to **Canvas** and **submit your assignment** on the assignment page. Once it is submitted, swing over to the homework now and start working through the paper."
      ]
    }
  ],
  "metadata": {
    "colab": {
      "provenance": []
    },
    "kernelspec": {
      "display_name": "Python 3",
      "name": "python3"
    },
    "language_info": {
      "name": "python"
    }
  },
  "nbformat": 4,
  "nbformat_minor": 0
}